{
  "nbformat": 4,
  "nbformat_minor": 0,
  "metadata": {
    "colab": {
      "provenance": [],
      "authorship_tag": "ABX9TyNEoxDRR+xnx5Ch+q7qa1/j",
      "include_colab_link": true
    },
    "kernelspec": {
      "name": "python3",
      "display_name": "Python 3"
    },
    "language_info": {
      "name": "python"
    }
  },
  "cells": [
    {
      "cell_type": "markdown",
      "metadata": {
        "id": "view-in-github",
        "colab_type": "text"
      },
      "source": [
        "<a href=\"https://colab.research.google.com/github/PS-CSE/Deep-Learning-Projects/blob/main/Handwritten_digit_recognizer_%5BBy_Priyansh%5D.ipynb\" target=\"_parent\"><img src=\"https://colab.research.google.com/assets/colab-badge.svg\" alt=\"Open In Colab\"/></a>"
      ]
    },
    {
      "cell_type": "markdown",
      "source": [
        "<h1><u>Handwritten digit recognizer</h1></u>\n",
        "\n",
        "<b>At first we will import the Tenserflow library.<br>\n",
        "Then from tenserflow ewe will import keras API.<br>\n",
        "Then for better visualization we will import pyplot from matplotlib.<br>\n",
        "Finally we will import numpy.</b>"
      ],
      "metadata": {
        "id": "nKX4ZQIj2Oin"
      }
    },
    {
      "cell_type": "code",
      "execution_count": 1,
      "metadata": {
        "id": "IBvhU3SK0J-r"
      },
      "outputs": [],
      "source": [
        "import tensorflow as tf\n",
        "from tensorflow import keras\n",
        "from keras.layers import LeakyReLU\n",
        "import matplotlib.pyplot as plt\n",
        "%matplotlib inline\n",
        "import numpy as np"
      ]
    },
    {
      "cell_type": "markdown",
      "source": [
        "<b>In the next cell we will import our dataset.<br>\n",
        "Our data set is available on keras.<br>\n",
        "Its name is mnist and we will load data by using load_data()\n",
        "</b>\n",
        "<hr>\n",
        "<b> Our data is seperated in two parts one is the training set and other is the testing set.</b>\n",
        "Here we have the following attributes:<br>\n",
        "<b>X_train</b> --> Stores the training image dataset.<br>\n",
        "<b>Y_train</b> --> Stores the resultant digit corresponding to each image dataset.<br>\n",
        "<b>X_test</b> --> Stores the testing image dataset.<br>\n",
        "<b>Y_test</b> --> Stores the resultant digit corresponding to each image dataset.<br>"
      ],
      "metadata": {
        "id": "WrtJa-6i2KQH"
      }
    },
    {
      "cell_type": "code",
      "source": [
        "(X_train , Y_train),(X_test , Y_test) = keras.datasets.mnist.load_data()"
      ],
      "metadata": {
        "id": "p2zzU6NZ08hv",
        "colab": {
          "base_uri": "https://localhost:8080/"
        },
        "outputId": "bc203978-8a6a-44e9-95d2-ccda1b416c96"
      },
      "execution_count": 2,
      "outputs": [
        {
          "output_type": "stream",
          "name": "stdout",
          "text": [
            "Downloading data from https://storage.googleapis.com/tensorflow/tf-keras-datasets/mnist.npz\n",
            "11490434/11490434 [==============================] - 0s 0us/step\n"
          ]
        }
      ]
    },
    {
      "cell_type": "markdown",
      "source": [
        "Now we will get some insights about the size our data."
      ],
      "metadata": {
        "id": "yQ3UPOAo2IsE"
      }
    },
    {
      "cell_type": "code",
      "source": [
        "print(f\"Size of the Training data is : {len(X_train)}\")\n",
        "print(f\"Size of the Testing data is : {len(X_test)}\")"
      ],
      "metadata": {
        "colab": {
          "base_uri": "https://localhost:8080/"
        },
        "id": "Xb5DUSmn3rsS",
        "outputId": "301d103b-fabf-4092-e2c9-c2a565230ba2"
      },
      "execution_count": 3,
      "outputs": [
        {
          "output_type": "stream",
          "name": "stdout",
          "text": [
            "Size of the Training data is : 60000\n",
            "Size of the Testing data is : 10000\n"
          ]
        }
      ]
    },
    {
      "cell_type": "markdown",
      "source": [
        "So here we can see that the training dataset size is 60,000 and the size of testing dataset is 10,000 . So from here we can conclude that: <b>Training data consists of <u>85%</u> of the dataset , whereas this number is <u>15%</u> for testing dataset.</b>"
      ],
      "metadata": {
        "id": "PG8TSFXW5PXl"
      }
    },
    {
      "cell_type": "code",
      "source": [
        "print(f\"{X_train[0].shape} , {X_test[0].shape}\")"
      ],
      "metadata": {
        "colab": {
          "base_uri": "https://localhost:8080/"
        },
        "id": "6HEoziZE5I3p",
        "outputId": "280cff8a-e3b7-4d35-dea5-c691a10b5650"
      },
      "execution_count": 4,
      "outputs": [
        {
          "output_type": "stream",
          "name": "stdout",
          "text": [
            "(28, 28) , (28, 28)\n"
          ]
        }
      ]
    },
    {
      "cell_type": "markdown",
      "source": [
        "So, in the above cell we can see that each image whether it be training or testing is a <b>28x28 grayscale image</b>. Now we will see the dataset. The image and its corresponding training digit result."
      ],
      "metadata": {
        "id": "p8Tipcr26o5B"
      }
    },
    {
      "cell_type": "code",
      "source": [
        "print(\"The first image in the dataset is : \")\n",
        "plt.matshow(X_train[0])"
      ],
      "metadata": {
        "colab": {
          "base_uri": "https://localhost:8080/",
          "height": 310
        },
        "id": "ALX1FPMh8Sgs",
        "outputId": "d36d9c57-da8b-4cc3-89c5-21c3ca69952f"
      },
      "execution_count": 5,
      "outputs": [
        {
          "output_type": "stream",
          "name": "stdout",
          "text": [
            "The first image in the dataset is : \n"
          ]
        },
        {
          "output_type": "execute_result",
          "data": {
            "text/plain": [
              "<matplotlib.image.AxesImage at 0x7f7ced82f950>"
            ]
          },
          "metadata": {},
          "execution_count": 5
        },
        {
          "output_type": "display_data",
          "data": {
            "text/plain": [
              "<Figure size 288x288 with 1 Axes>"
            ],
            "image/png": "[encoded data removed]"
          },
          "metadata": {
            "needs_background": "light"
          }
        }
      ]
    },
    {
      "cell_type": "code",
      "source": [
        "print(f\"The corresponding image's resultant digit is : {Y_train[0]}\")"
      ],
      "metadata": {
        "colab": {
          "base_uri": "https://localhost:8080/"
        },
        "id": "swYMRzf58qAp",
        "outputId": "43520f5f-1eb0-4f20-b395-ee9529ce6e76"
      },
      "execution_count": 6,
      "outputs": [
        {
          "output_type": "stream",
          "name": "stdout",
          "text": [
            "The corresponding image's resultant digit is : 5\n"
          ]
        }
      ]
    },
    {
      "cell_type": "markdown",
      "source": [
        "Now we will arrange our dataset as follows...<br>\n",
        "Here, each image has 28x28 share, we will <b>reshape it to a single array containing 28*28 (i.e. 784) elements</b>.<br>This process is called <b><u>flaterring</u></b> and it will make it easy for us to load our dataset int the neural network that we will create for this project."
      ],
      "metadata": {
        "id": "HV4N4ftk9RlJ"
      }
    },
    {
      "cell_type": "code",
      "source": [
        "X_train_flatenned = X_train.reshape(len(X_train),28*28)\n",
        "X_test_flatenned = X_test.reshape(len(X_test),28*28)\n",
        "print(f\"Now the shape of the training dataset for inputs is : \\n Number of datasets = {X_train_flatenned.shape[0]}\\n Shape of grayscale array for each image = {X_train_flatenned.shape[1]}\")\n",
        "print(f\"Now the shape of the testing dataset for inputs is : \\n Number of datasets = {X_test_flatenned.shape[0]}\\n Shape of grayscale array for each image = {X_test_flatenned.shape[1]}\")"
      ],
      "metadata": {
        "colab": {
          "base_uri": "https://localhost:8080/"
        },
        "id": "O1DO5l_39wCw",
        "outputId": "85026c65-b5f4-490f-a56f-64a4deda7e05"
      },
      "execution_count": 7,
      "outputs": [
        {
          "output_type": "stream",
          "name": "stdout",
          "text": [
            "Now the shape of the training dataset for inputs is : \n",
            " Number of datasets = 60000\n",
            " Shape of grayscale array for each image = 784\n",
            "Now the shape of the testing dataset for inputs is : \n",
            " Number of datasets = 10000\n",
            " Shape of grayscale array for each image = 784\n"
          ]
        }
      ]
    },
    {
      "cell_type": "code",
      "source": [
        "train_mean = np.mean(X_train_flatenned[1])\n",
        "print(train_mean)\n",
        "test_mean = np.mean(X_test_flatenned[1])\n",
        "print(test_mean)\n",
        "X_train_flatenned = (X_train_flatenned - train_mean) /255\n",
        "X_test_flatenned = (X_test_flatenned-test_mean)/255"
      ],
      "metadata": {
        "colab": {
          "base_uri": "https://localhost:8080/"
        },
        "id": "WRH_8p5sPkdn",
        "outputId": "fb5da3d5-f2e7-401b-9c51-cc8bbe73393a"
      },
      "execution_count": 8,
      "outputs": [
        {
          "output_type": "stream",
          "name": "stdout",
          "text": [
            "39.661989795918366\n",
            "36.798469387755105\n"
          ]
        }
      ]
    },
    {
      "cell_type": "markdown",
      "source": [
        "<h3><b>Now we will create our neural network</b></h3>"
      ],
      "metadata": {
        "id": "YkfAtyfd_qlB"
      }
    },
    {
      "cell_type": "code",
      "source": [
        "neural_network_improved = keras.Sequential([\n",
        "    keras.layers.Dense(250,input_shape=(784,),activation=\"relu\"),\n",
        "    keras.layers.Dense(50,activation =\"relu\"),\n",
        "    keras.layers.Dense(10,activation = \"sigmoid\")\n",
        "])\n",
        "neural_network_improved.compile(\n",
        "    optimizer = \"adam\",\n",
        "    loss = 'sparse_categorical_crossentropy',\n",
        "    metrics = ['accuracy']\n",
        "    )\n",
        "neural_network_improved.fit(X_train_flatenned,Y_train,epochs = 10)"
      ],
      "metadata": {
        "colab": {
          "base_uri": "https://localhost:8080/"
        },
        "id": "ELJsbZqUc7xB",
        "outputId": "12e1dc6d-a16e-41b5-ec55-b244e7568c7b"
      },
      "execution_count": 9,
      "outputs": [
        {
          "output_type": "stream",
          "name": "stdout",
          "text": [
            "Epoch 1/10\n",
            "1875/1875 [==============================] - 14s 6ms/step - loss: 0.2211 - accuracy: 0.9329\n",
            "Epoch 2/10\n",
            "1875/1875 [==============================] - 8s 4ms/step - loss: 0.0952 - accuracy: 0.9709\n",
            "Epoch 3/10\n",
            "1875/1875 [==============================] - 8s 4ms/step - loss: 0.0679 - accuracy: 0.9783\n",
            "Epoch 4/10\n",
            "1875/1875 [==============================] - 8s 4ms/step - loss: 0.0526 - accuracy: 0.9831\n",
            "Epoch 5/10\n",
            "1875/1875 [==============================] - 8s 4ms/step - loss: 0.0414 - accuracy: 0.9862\n",
            "Epoch 6/10\n",
            "1875/1875 [==============================] - 8s 4ms/step - loss: 0.0351 - accuracy: 0.9884\n",
            "Epoch 7/10\n",
            "1875/1875 [==============================] - 8s 4ms/step - loss: 0.0279 - accuracy: 0.9907\n",
            "Epoch 8/10\n",
            "1875/1875 [==============================] - 8s 4ms/step - loss: 0.0257 - accuracy: 0.9914\n",
            "Epoch 9/10\n",
            "1875/1875 [==============================] - 8s 4ms/step - loss: 0.0242 - accuracy: 0.9917\n",
            "Epoch 10/10\n",
            "1875/1875 [==============================] - 8s 4ms/step - loss: 0.0200 - accuracy: 0.9934\n"
          ]
        },
        {
          "output_type": "execute_result",
          "data": {
            "text/plain": [
              "<keras.callbacks.History at 0x7f7ce9074890>"
            ]
          },
          "metadata": {},
          "execution_count": 9
        }
      ]
    },
    {
      "cell_type": "code",
      "source": [
        "neural_network_improved.evaluate(X_test_flatenned,Y_test)"
      ],
      "metadata": {
        "colab": {
          "base_uri": "https://localhost:8080/"
        },
        "id": "PV0Bu1BHdnJL",
        "outputId": "f8251fc2-9db5-4c3c-9781-69840eadcfd4"
      },
      "execution_count": 10,
      "outputs": [
        {
          "output_type": "stream",
          "name": "stdout",
          "text": [
            "313/313 [==============================] - 1s 3ms/step - loss: 0.0916 - accuracy: 0.9786\n"
          ]
        },
        {
          "output_type": "execute_result",
          "data": {
            "text/plain": [
              "[0.09161605685949326, 0.978600025177002]"
            ]
          },
          "metadata": {},
          "execution_count": 10
        }
      ]
    },
    {
      "cell_type": "code",
      "source": [
        "y_predicted = neural_network_improved.predict(X_test_flatenned)\n",
        "y_predicted_label = [np.argmax(i) for i in y_predicted]\n",
        "confM = tf.math.confusion_matrix(labels = Y_test,predictions = y_predicted_label)\n",
        "import seaborn as sn\n",
        "plt.figure(figsize = (10,7))\n",
        "sn.heatmap(confM , annot = True , fmt = 'd')\n",
        "plt.xlabel(\"Predicted\")\n",
        "plt.ylabel(\"True Value\")"
      ],
      "metadata": {
        "colab": {
          "base_uri": "https://localhost:8080/",
          "height": 477
        },
        "id": "uRklMcRmeXdr",
        "outputId": "d3b4fc68-93a6-4b3c-afb8-12deca2d41f9"
      },
      "execution_count": 11,
      "outputs": [
        {
          "output_type": "stream",
          "name": "stdout",
          "text": [
            "313/313 [==============================] - 1s 2ms/step\n"
          ]
        },
        {
          "output_type": "execute_result",
          "data": {
            "text/plain": [
              "Text(69.0, 0.5, 'True Value')"
            ]
          },
          "metadata": {},
          "execution_count": 11
        },
        {
          "output_type": "display_data",
          "data": {
            "text/plain": [
              "<Figure size 720x504 with 2 Axes>"
            ],
            "image/png": "[encoded data removed]"
          },
          "metadata": {
            "needs_background": "light"
          }
        }
      ]
    }
  ]
}
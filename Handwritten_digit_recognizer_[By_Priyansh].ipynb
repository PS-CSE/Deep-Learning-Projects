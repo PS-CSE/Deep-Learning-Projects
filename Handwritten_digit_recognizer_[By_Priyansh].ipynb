{
  "nbformat": 4,
  "nbformat_minor": 0,
  "metadata": {
    "colab": {
      "provenance": [],
      "authorship_tag": "ABX9TyNEoxDRR+xnx5Ch+q7qa1/j",
      "include_colab_link": true
    },
    "kernelspec": {
      "name": "python3",
      "display_name": "Python 3"
    },
    "language_info": {
      "name": "python"
    }
  },
  "cells": [
    {
      "cell_type": "markdown",
      "metadata": {
        "id": "view-in-github",
        "colab_type": "text"
      },
      "source": [
        "<a href=\"https://colab.research.google.com/github/PS-CSE/Deep-Learning-Projects/blob/main/Handwritten_digit_recognizer_%5BBy_Priyansh%5D.ipynb\" target=\"_parent\"><img src=\"https://colab.research.google.com/assets/colab-badge.svg\" alt=\"Open In Colab\"/></a>"
      ]
    },
    {
      "cell_type": "markdown",
      "source": [
        "<h1><u>Handwritten digit recognizer</h1></u>\n",
        "\n",
        "<b>At first we will import the Tenserflow library.<br>\n",
        "Then from tenserflow ewe will import keras API.<br>\n",
        "Then for better visualization we will import pyplot from matplotlib.<br>\n",
        "Finally we will import numpy.</b>"
      ],
      "metadata": {
        "id": "nKX4ZQIj2Oin"
      }
    },
    {
      "cell_type": "code",
      "execution_count": null,
      "metadata": {
        "id": "IBvhU3SK0J-r"
      },
      "outputs": [],
      "source": [
        "import tensorflow as tf\n",
        "from tensorflow import keras\n",
        "from keras.layers import LeakyReLU\n",
        "import matplotlib.pyplot as plt\n",
        "%matplotlib inline\n",
        "import numpy as np"
      ]
    },
    {
      "cell_type": "markdown",
      "source": [
        "<b>In the next cell we will import our dataset.<br>\n",
        "Our data set is available on keras.<br>\n",
        "Its name is mnist and we will load data by using load_data()\n",
        "</b>\n",
        "<hr>\n",
        "<b> Our data is seperated in two parts one is the training set and other is the testing set.</b>\n",
        "Here we have the following attributes:<br>\n",
        "<b>X_train</b> --> Stores the training image dataset.<br>\n",
        "<b>Y_train</b> --> Stores the resultant digit corresponding to each image dataset.<br>\n",
        "<b>X_test</b> --> Stores the testing image dataset.<br>\n",
        "<b>Y_test</b> --> Stores the resultant digit corresponding to each image dataset.<br>"
      ],
      "metadata": {
        "id": "WrtJa-6i2KQH"
      }
    },
    {
      "cell_type": "code",
      "source": [
        "(X_train , Y_train),(X_test , Y_test) = keras.datasets.mnist.load_data()"
      ],
      "metadata": {
        "id": "p2zzU6NZ08hv",
        "colab": {
          "base_uri": "https://localhost:8080/"
        },
        "outputId": "b8a269bc-3664-48ac-c62b-1ec6fbfb924d"
      },
      "execution_count": null,
      "outputs": [
        {
          "output_type": "stream",
          "name": "stdout",
          "text": [
            "Downloading data from https://storage.googleapis.com/tensorflow/tf-keras-datasets/mnist.npz\n",
            "11490434/11490434 [==============================] - 1s 0us/step\n"
          ]
        }
      ]
    },
    {
      "cell_type": "markdown",
      "source": [
        "Now we will get some insights about the size our data."
      ],
      "metadata": {
        "id": "yQ3UPOAo2IsE"
      }
    },
    {
      "cell_type": "code",
      "source": [
        "print(f\"Size of the Training data is : {len(X_train)}\")\n",
        "print(f\"Size of the Testing data is : {len(X_test)}\")"
      ],
      "metadata": {
        "colab": {
          "base_uri": "https://localhost:8080/"
        },
        "id": "Xb5DUSmn3rsS",
        "outputId": "6c87afe3-fcd4-46ab-eed6-fac9b89df3f0"
      },
      "execution_count": null,
      "outputs": [
        {
          "output_type": "stream",
          "name": "stdout",
          "text": [
            "Size of the Training data is : 60000\n",
            "Size of the Testing data is : 10000\n"
          ]
        }
      ]
    },
    {
      "cell_type": "markdown",
      "source": [
        "So here we can see that the training dataset size is 60,000 and the size of testing dataset is 10,000 . So from here we can conclude that: <b>Training data consists of <u>85%</u> of the dataset , whereas this number is <u>15%</u> for testing dataset.</b>"
      ],
      "metadata": {
        "id": "PG8TSFXW5PXl"
      }
    },
    {
      "cell_type": "code",
      "source": [
        "print(f\"{X_train[0].shape} , {X_test[0].shape}\")"
      ],
      "metadata": {
        "colab": {
          "base_uri": "https://localhost:8080/"
        },
        "id": "6HEoziZE5I3p",
        "outputId": "5bc5d42e-d6b3-4cb7-8cc0-1a4c38c92b63"
      },
      "execution_count": null,
      "outputs": [
        {
          "output_type": "stream",
          "name": "stdout",
          "text": [
            "(28, 28) , (28, 28)\n"
          ]
        }
      ]
    },
    {
      "cell_type": "markdown",
      "source": [
        "So, in the above cell we can see that each image whether it be training or testing is a <b>28x28 grayscale image</b>. Now we will see the dataset. The image and its corresponding training digit result."
      ],
      "metadata": {
        "id": "p8Tipcr26o5B"
      }
    },
    {
      "cell_type": "code",
      "source": [
        "print(\"The first image in the dataset is : \")\n",
        "plt.matshow(X_train[0])"
      ],
      "metadata": {
        "colab": {
          "base_uri": "https://localhost:8080/",
          "height": 310
        },
        "id": "ALX1FPMh8Sgs",
        "outputId": "35d8b108-1ffd-4f4b-d92b-c153b8bfd51f"
      },
      "execution_count": null,
      "outputs": [
        {
          "output_type": "stream",
          "name": "stdout",
          "text": [
            "The first image in the dataset is : \n"
          ]
        },
        {
          "output_type": "execute_result",
          "data": {
            "text/plain": [
              "<matplotlib.image.AxesImage at 0x7fb3ca99acd0>"
            ]
          },
          "metadata": {},
          "execution_count": 5
        },
        {
          "output_type": "display_data",
          "data": {
            "text/plain": [
              "<Figure size 288x288 with 1 Axes>"
            ],
            "image/png": "[encoded data removed]"
          },
          "metadata": {
            "needs_background": "light"
          }
        }
      ]
    },
    {
      "cell_type": "code",
      "source": [
        "print(f\"The corresponding image's resultant digit is : {Y_train[0]}\")"
      ],
      "metadata": {
        "colab": {
          "base_uri": "https://localhost:8080/"
        },
        "id": "swYMRzf58qAp",
        "outputId": "00b61064-59b6-4554-eb06-9d03000388c0"
      },
      "execution_count": null,
      "outputs": [
        {
          "output_type": "stream",
          "name": "stdout",
          "text": [
            "The corresponding image's resultant digit is : 5\n"
          ]
        }
      ]
    },
    {
      "cell_type": "markdown",
      "source": [
        "Now we will arrange our dataset as follows...<br>\n",
        "Here, each image has 28x28 share, we will <b>reshape it to a single array containing 28*28 (i.e. 784) elements</b>.<br>This process is called <b><u>flaterring</u></b> and it will make it easy for us to load our dataset int the neural network that we will create for this project."
      ],
      "metadata": {
        "id": "HV4N4ftk9RlJ"
      }
    },
    {
      "cell_type": "code",
      "source": [
        "X_train_flatenned = X_train.reshape(len(X_train),28*28)\n",
        "X_test_flatenned = X_test.reshape(len(X_test),28*28)\n",
        "print(f\"Now the shape of the training dataset for inputs is : \\n Number of datasets = {X_train_flatenned.shape[0]}\\n Shape of grayscale array for each image = {X_train_flatenned.shape[1]}\")\n",
        "print(f\"Now the shape of the testing dataset for inputs is : \\n Number of datasets = {X_test_flatenned.shape[0]}\\n Shape of grayscale array for each image = {X_test_flatenned.shape[1]}\")"
      ],
      "metadata": {
        "colab": {
          "base_uri": "https://localhost:8080/"
        },
        "id": "O1DO5l_39wCw",
        "outputId": "10ca6c72-26b1-4096-e75d-292a02304b87"
      },
      "execution_count": null,
      "outputs": [
        {
          "output_type": "stream",
          "name": "stdout",
          "text": [
            "Now the shape of the training dataset for inputs is : \n",
            " Number of datasets = 60000\n",
            " Shape of grayscale array for each image = 784\n",
            "Now the shape of the testing dataset for inputs is : \n",
            " Number of datasets = 10000\n",
            " Shape of grayscale array for each image = 784\n"
          ]
        }
      ]
    },
    {
      "cell_type": "code",
      "source": [
        "train_mean = np.mean(X_train_flatenned[1])\n",
        "print(train_mean)\n",
        "test_mean = np.mean(X_test_flatenned[1])\n",
        "print(test_mean)\n",
        "X_train_flatenned = (X_train_flatenned - train_mean) /255\n",
        "X_test_flatenned = (X_test_flatenned-test_mean)/255"
      ],
      "metadata": {
        "colab": {
          "base_uri": "https://localhost:8080/"
        },
        "id": "WRH_8p5sPkdn",
        "outputId": "35e7fdf2-e9b5-4860-d2a0-6773b405589f"
      },
      "execution_count": null,
      "outputs": [
        {
          "output_type": "stream",
          "name": "stdout",
          "text": [
            "39.661989795918366\n",
            "36.798469387755105\n"
          ]
        }
      ]
    },
    {
      "cell_type": "markdown",
      "source": [
        "<h3><b>Now we will create our neural network</b></h3>"
      ],
      "metadata": {
        "id": "YkfAtyfd_qlB"
      }
    },
    {
      "cell_type": "code",
      "source": [
        "neural_network_improved = keras.Sequential([\n",
        "    keras.layers.Dense(250,input_shape=(784,),activation=\"relu\"),\n",
        "    keras.layers.Dense(50,activation =\"relu\"),\n",
        "    keras.layers.Dense(10,activation = \"sigmoid\")\n",
        "])\n",
        "neural_network_improved.compile(\n",
        "    optimizer = \"adam\",\n",
        "    loss = 'sparse_categorical_crossentropy',\n",
        "    metrics = ['accuracy']\n",
        "    )\n",
        "neural_network_improved.fit(X_train_flatenned,Y_train,epochs = 10)"
      ],
      "metadata": {
        "colab": {
          "base_uri": "https://localhost:8080/"
        },
        "id": "ELJsbZqUc7xB",
        "outputId": "60a7ca44-23a0-40a7-cd6f-1ed767fa987a"
      },
      "execution_count": null,
      "outputs": [
        {
          "output_type": "stream",
          "name": "stdout",
          "text": [
            "Epoch 1/10\n",
            "1875/1875 [==============================] - 10s 5ms/step - loss: 0.2214 - accuracy: 0.9339\n",
            "Epoch 2/10\n",
            "1875/1875 [==============================] - 9s 5ms/step - loss: 0.0946 - accuracy: 0.9706\n",
            "Epoch 3/10\n",
            "1875/1875 [==============================] - 9s 5ms/step - loss: 0.0677 - accuracy: 0.9784\n",
            "Epoch 4/10\n",
            "1875/1875 [==============================] - 9s 5ms/step - loss: 0.0530 - accuracy: 0.9833\n",
            "Epoch 5/10\n",
            "1875/1875 [==============================] - 9s 5ms/step - loss: 0.0419 - accuracy: 0.9857\n",
            "Epoch 6/10\n",
            "1875/1875 [==============================] - 9s 5ms/step - loss: 0.0339 - accuracy: 0.9884\n",
            "Epoch 7/10\n",
            "1875/1875 [==============================] - 10s 5ms/step - loss: 0.0290 - accuracy: 0.9906\n",
            "Epoch 8/10\n",
            "1875/1875 [==============================] - 9s 5ms/step - loss: 0.0251 - accuracy: 0.9915\n",
            "Epoch 9/10\n",
            "1875/1875 [==============================] - 9s 5ms/step - loss: 0.0231 - accuracy: 0.9921\n",
            "Epoch 10/10\n",
            "1875/1875 [==============================] - 9s 5ms/step - loss: 0.0203 - accuracy: 0.9932\n"
          ]
        },
        {
          "output_type": "execute_result",
          "data": {
            "text/plain": [
              "<keras.callbacks.History at 0x7fb3c6224c50>"
            ]
          },
          "metadata": {},
          "execution_count": 9
        }
      ]
    },
    {
      "cell_type": "code",
      "source": [
        "neural_network_improved.evaluate(X_test_flatenned,Y_test)"
      ],
      "metadata": {
        "colab": {
          "base_uri": "https://localhost:8080/"
        },
        "id": "PV0Bu1BHdnJL",
        "outputId": "b1301510-cf5e-46c7-ef13-72d673190630"
      },
      "execution_count": null,
      "outputs": [
        {
          "output_type": "stream",
          "name": "stdout",
          "text": [
            "313/313 [==============================] - 1s 3ms/step - loss: 0.0875 - accuracy: 0.9786\n"
          ]
        },
        {
          "output_type": "execute_result",
          "data": {
            "text/plain": [
              "[0.08746731281280518, 0.978600025177002]"
            ]
          },
          "metadata": {},
          "execution_count": 10
        }
      ]
    },
    {
      "cell_type": "code",
      "source": [
        "y_predicted = neural_network_improved.predict(X_test_flatenned)\n",
        "y_predicted_label = [np.argmax(i) for i in y_predicted]\n",
        "confM = tf.math.confusion_matrix(labels = Y_test,predictions = y_predicted_label)\n",
        "import seaborn as sn\n",
        "plt.figure(figsize = (10,7))\n",
        "sn.heatmap(confM , annot = True , fmt = 'd')\n",
        "plt.xlabel(\"Predicted\")\n",
        "plt.ylabel(\"True Value\")"
      ],
      "metadata": {
        "colab": {
          "base_uri": "https://localhost:8080/",
          "height": 235
        },
        "id": "uRklMcRmeXdr",
        "outputId": "be9bcdd6-67d2-4b3c-ee25-1f49574fe2b5"
      },
      "execution_count": null,
      "outputs": [
        {
          "output_type": "error",
          "ename": "NameError",
          "evalue": "ignored",
          "traceback": [
            "\u001b[0;31m---------------------------------------------------------------------------\u001b[0m",
            "\u001b[0;31mNameError\u001b[0m                                 Traceback (most recent call last)",
            "\u001b[0;32m<ipython-input-1-f6065400ba9b>\u001b[0m in \u001b[0;36m<module>\u001b[0;34m\u001b[0m\n\u001b[0;32m----> 1\u001b[0;31m \u001b[0my_predicted\u001b[0m \u001b[0;34m=\u001b[0m \u001b[0mneural_network_improved\u001b[0m\u001b[0;34m.\u001b[0m\u001b[0mpredict\u001b[0m\u001b[0;34m(\u001b[0m\u001b[0mX_test_flatenned\u001b[0m\u001b[0;34m)\u001b[0m\u001b[0;34m\u001b[0m\u001b[0;34m\u001b[0m\u001b[0m\n\u001b[0m\u001b[1;32m      2\u001b[0m \u001b[0my_predicted_label\u001b[0m \u001b[0;34m=\u001b[0m \u001b[0;34m[\u001b[0m\u001b[0mnp\u001b[0m\u001b[0;34m.\u001b[0m\u001b[0margmax\u001b[0m\u001b[0;34m(\u001b[0m\u001b[0mi\u001b[0m\u001b[0;34m)\u001b[0m \u001b[0;32mfor\u001b[0m \u001b[0mi\u001b[0m \u001b[0;32min\u001b[0m \u001b[0my_predicted\u001b[0m\u001b[0;34m]\u001b[0m\u001b[0;34m\u001b[0m\u001b[0;34m\u001b[0m\u001b[0m\n\u001b[1;32m      3\u001b[0m \u001b[0mconfM\u001b[0m \u001b[0;34m=\u001b[0m \u001b[0mtf\u001b[0m\u001b[0;34m.\u001b[0m\u001b[0mmath\u001b[0m\u001b[0;34m.\u001b[0m\u001b[0mconfusion_matrix\u001b[0m\u001b[0;34m(\u001b[0m\u001b[0mlabels\u001b[0m \u001b[0;34m=\u001b[0m \u001b[0mY_test\u001b[0m\u001b[0;34m,\u001b[0m\u001b[0mpredictions\u001b[0m \u001b[0;34m=\u001b[0m \u001b[0my_predicted_label\u001b[0m\u001b[0;34m)\u001b[0m\u001b[0;34m\u001b[0m\u001b[0;34m\u001b[0m\u001b[0m\n\u001b[1;32m      4\u001b[0m \u001b[0;32mimport\u001b[0m \u001b[0mseaborn\u001b[0m \u001b[0;32mas\u001b[0m \u001b[0msn\u001b[0m\u001b[0;34m\u001b[0m\u001b[0;34m\u001b[0m\u001b[0m\n\u001b[1;32m      5\u001b[0m \u001b[0mplt\u001b[0m\u001b[0;34m.\u001b[0m\u001b[0mfigure\u001b[0m\u001b[0;34m(\u001b[0m\u001b[0mfigsize\u001b[0m \u001b[0;34m=\u001b[0m \u001b[0;34m(\u001b[0m\u001b[0;36m10\u001b[0m\u001b[0;34m,\u001b[0m\u001b[0;36m7\u001b[0m\u001b[0;34m)\u001b[0m\u001b[0;34m)\u001b[0m\u001b[0;34m\u001b[0m\u001b[0;34m\u001b[0m\u001b[0m\n",
            "\u001b[0;31mNameError\u001b[0m: name 'neural_network_improved' is not defined"
          ]
        }
      ]
    }
  ]
}